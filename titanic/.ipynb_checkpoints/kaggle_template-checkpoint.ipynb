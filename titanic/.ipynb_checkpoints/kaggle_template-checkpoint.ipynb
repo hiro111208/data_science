{
 "cells": [
  {
   "cell_type": "code",
   "execution_count": null,
   "id": "87063f5c",
   "metadata": {},
   "outputs": [],
   "source": [
    "import pandas as pd\n",
    "from sklearn.model_selection import train_test_split\n",
    "from sklearn.preprocessing import StandardScaler\n",
    "\n",
    "train = pd.read_csv('train.csv')\n",
    "test = pd.read_csv('test.csv')\n",
    "train.head()\n",
    "train.dtypes\n",
    "train.isnull().sum()\n",
    "test.dtypes\n",
    "test.isnull().sum()"
   ]
  },
  {
   "cell_type": "code",
   "execution_count": null,
   "id": "497b806e",
   "metadata": {},
   "outputs": [],
   "source": [
    "X = train[['Pclass', 'SibSp', 'Parch', 'Sex', 'Fare']]\n",
    "y = train[['Survived']]\n",
    "\n",
    "X = pd.get_dummies(X, columns=['Pclass', 'Sex']) #convert non-classifiable data to classiable\n",
    "\n",
    "X_train, X_test, y_train, y_test = train_test_split(X, y.values.ravel(), random_state=0)"
   ]
  },
  {
   "cell_type": "code",
   "execution_count": null,
   "id": "a66023ff",
   "metadata": {},
   "outputs": [],
   "source": [
    "scaler = StandardScaler()\n",
    "scaler.fit(X_train)\n",
    "X_train = scaler.transform(X_train) # Scaled X_train\n",
    "X_test = scaler.transform(X_test) # Scaled X_test"
   ]
  },
  {
   "cell_type": "code",
   "execution_count": null,
   "id": "8b6883fb",
   "metadata": {},
   "outputs": [],
   "source": [
    "from sklearn.ensemble import RandomForestClassifier\n",
    "model = RandomForestClassifier()\n",
    "model.fit(X_train, y_train)\n",
    "model.score(X_test, y_test)"
   ]
  },
  {
   "cell_type": "code",
   "execution_count": null,
   "id": "91af83e5",
   "metadata": {},
   "outputs": [],
   "source": [
    "production.to_csv('titanic_submission.csv', index=False)"
   ]
  }
 ],
 "metadata": {
  "kernelspec": {
   "display_name": "Python 3",
   "language": "python",
   "name": "python3"
  },
  "language_info": {
   "codemirror_mode": {
    "name": "ipython",
    "version": 3
   },
   "file_extension": ".py",
   "mimetype": "text/x-python",
   "name": "python",
   "nbconvert_exporter": "python",
   "pygments_lexer": "ipython3",
   "version": "3.8.10"
  }
 },
 "nbformat": 4,
 "nbformat_minor": 5
}
